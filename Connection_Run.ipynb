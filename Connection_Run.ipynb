{
 "cells": [
  {
   "cell_type": "code",
   "execution_count": 1,
   "metadata": {},
   "outputs": [
    {
     "data": {
      "text/plain": [
       "'/home/zhalgas.zhienbekov'"
      ]
     },
     "execution_count": 1,
     "metadata": {},
     "output_type": "execute_result"
    }
   ],
   "source": [
    "import os\n",
    "os.getcwd()"
   ]
  },
  {
   "cell_type": "code",
   "execution_count": 2,
   "metadata": {},
   "outputs": [],
   "source": [
    "os.chdir('shared_risk_folder/ZZ_Projects/Connection_score/')"
   ]
  },
  {
   "cell_type": "code",
   "execution_count": 3,
   "metadata": {},
   "outputs": [],
   "source": [
    "import time\n",
    "import datetime\n",
    "import subprocess\n",
    "from datetime import datetime\n",
    "import pickle\n",
    "import numpy as np\n",
    "#from pyspark_job_control.pyspark_job_control_logs import JobControlLogs\n",
    "from pyspark.sql.functions import col\n",
    "from core_functions import (\n",
    "    get_config,\n",
    "    set_environment_variables,\n",
    "    update_impala_metadata,\n",
    "    create_spark_session,\n",
    "    dwh_update,\n",
    "    dwh_insert,\n",
    "    create_html_table,\n",
    "    send_email )"
   ]
  },
  {
   "cell_type": "code",
   "execution_count": 4,
   "metadata": {},
   "outputs": [],
   "source": [
    "PROJECT_PATH = os.getcwd()"
   ]
  },
  {
   "cell_type": "code",
   "execution_count": 5,
   "metadata": {},
   "outputs": [],
   "source": [
    "src_db_nm=\"bdp_feature_offline_stg\"\n",
    "src_table_nm=\"report_month_t_zz_connect_score_features_1\"\n",
    "\n",
    "trg_sys_name=\"bdp_score_stg\"\n",
    "trg_tab_name=\"daily_connection_score23_hdfs\"\n",
    "dwh_table_name=\"OWNER_EXT.T_ZZ_CONNECTION_SCORE_ACTUAL\"\n",
    "pickle_file_path_1 = f\"{PROJECT_PATH}/model_connect_score_24_1_final.pkl\"\n",
    "pickle_file_path_2 = f\"{PROJECT_PATH}/model_connect_score_24_2_final.pkl\""
   ]
  },
  {
   "cell_type": "code",
   "execution_count": 6,
   "metadata": {},
   "outputs": [],
   "source": [
    "SMTP_SERVER = 'smtp-int.itc.homecredit.kz'\n",
    "SMTP_PORT = 25"
   ]
  },
  {
   "cell_type": "code",
   "execution_count": 7,
   "metadata": {},
   "outputs": [],
   "source": [
    "appName=\"init_connection_score_generator\"\n",
    "spark = create_spark_session(appName)"
   ]
  },
  {
   "cell_type": "code",
   "execution_count": 8,
   "metadata": {},
   "outputs": [],
   "source": [
    "df = spark.sql(\"select * from bdp_feature_offline_stg.report_month_t_zz_connect_score_features_1\")"
   ]
  },
  {
   "cell_type": "code",
   "execution_count": 9,
   "metadata": {},
   "outputs": [],
   "source": [
    "pd_data = df.toPandas()"
   ]
  },
  {
   "cell_type": "code",
   "execution_count": 10,
   "metadata": {},
   "outputs": [
    {
     "data": {
      "text/html": [
       "<div>\n",
       "<style scoped>\n",
       "    .dataframe tbody tr th:only-of-type {\n",
       "        vertical-align: middle;\n",
       "    }\n",
       "\n",
       "    .dataframe tbody tr th {\n",
       "        vertical-align: top;\n",
       "    }\n",
       "\n",
       "    .dataframe thead th {\n",
       "        text-align: right;\n",
       "    }\n",
       "</style>\n",
       "<table border=\"1\" class=\"dataframe\">\n",
       "  <thead>\n",
       "    <tr style=\"text-align: right;\">\n",
       "      <th></th>\n",
       "      <th>id_cuid</th>\n",
       "      <th>phone_number</th>\n",
       "      <th>pif_phone_type_code</th>\n",
       "      <th>rate_out_calls_6m</th>\n",
       "      <th>cnt_calls_1m</th>\n",
       "      <th>past_days_last_succ_call</th>\n",
       "      <th>cnt_calls_18m</th>\n",
       "      <th>cnt_success_sms_6m</th>\n",
       "      <th>avg_talk_18m</th>\n",
       "      <th>last_interaction_type_encoded</th>\n",
       "      <th>unsuccess_class</th>\n",
       "      <th>part_date</th>\n",
       "    </tr>\n",
       "  </thead>\n",
       "  <tbody>\n",
       "    <tr>\n",
       "      <th>0</th>\n",
       "      <td>3180354</td>\n",
       "      <td>7010228181</td>\n",
       "      <td>PRIMARY_MOBILE</td>\n",
       "      <td>0.0</td>\n",
       "      <td>0</td>\n",
       "      <td>-1</td>\n",
       "      <td>0</td>\n",
       "      <td>0</td>\n",
       "      <td>0E-10</td>\n",
       "      <td>2</td>\n",
       "      <td>0</td>\n",
       "      <td>20240804</td>\n",
       "    </tr>\n",
       "    <tr>\n",
       "      <th>1</th>\n",
       "      <td>2723760</td>\n",
       "      <td>7027586061</td>\n",
       "      <td>PRIMARY_MOBILE</td>\n",
       "      <td>0.0</td>\n",
       "      <td>0</td>\n",
       "      <td>-1</td>\n",
       "      <td>0</td>\n",
       "      <td>0</td>\n",
       "      <td>0E-10</td>\n",
       "      <td>2</td>\n",
       "      <td>0</td>\n",
       "      <td>20240804</td>\n",
       "    </tr>\n",
       "    <tr>\n",
       "      <th>2</th>\n",
       "      <td>1013991</td>\n",
       "      <td>7052711822</td>\n",
       "      <td>PRIMARY_MOBILE</td>\n",
       "      <td>0.0</td>\n",
       "      <td>0</td>\n",
       "      <td>-1</td>\n",
       "      <td>0</td>\n",
       "      <td>0</td>\n",
       "      <td>0E-10</td>\n",
       "      <td>2</td>\n",
       "      <td>0</td>\n",
       "      <td>20240804</td>\n",
       "    </tr>\n",
       "    <tr>\n",
       "      <th>3</th>\n",
       "      <td>2205338</td>\n",
       "      <td>7056716882</td>\n",
       "      <td>PRIMARY_MOBILE</td>\n",
       "      <td>0.0</td>\n",
       "      <td>0</td>\n",
       "      <td>-1</td>\n",
       "      <td>0</td>\n",
       "      <td>0</td>\n",
       "      <td>0E-10</td>\n",
       "      <td>2</td>\n",
       "      <td>0</td>\n",
       "      <td>20240804</td>\n",
       "    </tr>\n",
       "    <tr>\n",
       "      <th>4</th>\n",
       "      <td>617623</td>\n",
       "      <td>70766480886</td>\n",
       "      <td>PRIMARY_MOBILE</td>\n",
       "      <td>0.0</td>\n",
       "      <td>0</td>\n",
       "      <td>-1</td>\n",
       "      <td>0</td>\n",
       "      <td>0</td>\n",
       "      <td>0E-10</td>\n",
       "      <td>2</td>\n",
       "      <td>0</td>\n",
       "      <td>20240804</td>\n",
       "    </tr>\n",
       "  </tbody>\n",
       "</table>\n",
       "</div>"
      ],
      "text/plain": [
       "   id_cuid    phone_number pif_phone_type_code  rate_out_calls_6m  \\\n",
       "0  3180354      7010228181      PRIMARY_MOBILE                0.0   \n",
       "1  2723760   7027586061         PRIMARY_MOBILE                0.0   \n",
       "2  1013991      7052711822      PRIMARY_MOBILE                0.0   \n",
       "3  2205338      7056716882      PRIMARY_MOBILE                0.0   \n",
       "4   617623     70766480886      PRIMARY_MOBILE                0.0   \n",
       "\n",
       "   cnt_calls_1m  past_days_last_succ_call  cnt_calls_18m  cnt_success_sms_6m  \\\n",
       "0             0                        -1              0                   0   \n",
       "1             0                        -1              0                   0   \n",
       "2             0                        -1              0                   0   \n",
       "3             0                        -1              0                   0   \n",
       "4             0                        -1              0                   0   \n",
       "\n",
       "  avg_talk_18m  last_interaction_type_encoded  unsuccess_class  part_date  \n",
       "0        0E-10                              2                0   20240804  \n",
       "1        0E-10                              2                0   20240804  \n",
       "2        0E-10                              2                0   20240804  \n",
       "3        0E-10                              2                0   20240804  \n",
       "4        0E-10                              2                0   20240804  "
      ]
     },
     "execution_count": 10,
     "metadata": {},
     "output_type": "execute_result"
    }
   ],
   "source": [
    "pd_data.head()"
   ]
  },
  {
   "cell_type": "code",
   "execution_count": 11,
   "metadata": {},
   "outputs": [],
   "source": [
    "pd_data['avg_talk_18m'] = pd_data['avg_talk_18m'].astype(float)"
   ]
  },
  {
   "cell_type": "code",
   "execution_count": 13,
   "metadata": {},
   "outputs": [
    {
     "data": {
      "text/plain": [
       "7.009612860186319"
      ]
     },
     "execution_count": 13,
     "metadata": {},
     "output_type": "execute_result"
    }
   ],
   "source": [
    "pd_data['avg_talk_18m'].mean()"
   ]
  },
  {
   "cell_type": "code",
   "execution_count": 14,
   "metadata": {},
   "outputs": [],
   "source": [
    "with open(pickle_file_path_1, \"rb\") as file1:\n",
    "    model_cs_1 = pickle.load(file1)\n",
    "with open(pickle_file_path_2, \"rb\") as file2:\n",
    "    model_cs_2 = pickle.load(file2)"
   ]
  },
  {
   "cell_type": "code",
   "execution_count": 15,
   "metadata": {},
   "outputs": [],
   "source": [
    "predictors1 = model_cs_1.feature_name()\n",
    "predictors2 = model_cs_2.feature_name()"
   ]
  },
  {
   "cell_type": "code",
   "execution_count": 16,
   "metadata": {},
   "outputs": [],
   "source": [
    "pd_data[['phone_number']] = pd_data[['phone_number']].applymap(lambda x: str(x).strip().replace(' ', ''))\n",
    "pd_data['phone_number'] = pd_data['phone_number'].astype(str)\n",
    "pd_data = pd_data[(pd_data['phone_number'].str.len() == 11) | (pd_data['phone_number'].str.len() == 10)]"
   ]
  },
  {
   "cell_type": "code",
   "execution_count": 17,
   "metadata": {},
   "outputs": [],
   "source": [
    "pd_data1 = pd_data[pd_data['pif_phone_type_code'] == 'PRIMARY_MOBILE'][predictors1]\n",
    "pd_data2 = pd_data[predictors2]"
   ]
  },
  {
   "cell_type": "code",
   "execution_count": 18,
   "metadata": {},
   "outputs": [
    {
     "data": {
      "text/plain": [
       "rate_out_calls_6m                float64\n",
       "cnt_calls_1m                       int64\n",
       "past_days_last_succ_call           int32\n",
       "cnt_calls_18m                      int64\n",
       "cnt_success_sms_6m                 int64\n",
       "avg_talk_18m                     float64\n",
       "last_interaction_type_encoded       int8\n",
       "unsuccess_class                    int32\n",
       "dtype: object"
      ]
     },
     "execution_count": 18,
     "metadata": {},
     "output_type": "execute_result"
    }
   ],
   "source": [
    "pd_data1.dtypes"
   ]
  },
  {
   "cell_type": "code",
   "execution_count": 19,
   "metadata": {},
   "outputs": [
    {
     "name": "stderr",
     "output_type": "stream",
     "text": [
      "/opt/cloudera/parcels/ANACONDA/lib/python3.6/site-packages/pandas/core/frame.py:3391: SettingWithCopyWarning: \n",
      "A value is trying to be set on a copy of a slice from a DataFrame.\n",
      "Try using .loc[row_indexer,col_indexer] = value instead\n",
      "\n",
      "See the caveats in the documentation: http://pandas.pydata.org/pandas-docs/stable/indexing.html#indexing-view-versus-copy\n",
      "  self[k1] = value[k2]\n"
     ]
    }
   ],
   "source": [
    "pd_data1[['unsuccess_class', 'last_interaction_type_encoded']] = pd_data1[['unsuccess_class', 'last_interaction_type_encoded']].astype('category')\n",
    "pd_data2[['unsuccess_class', 'last_interaction_type_encoded']] = pd_data2[['unsuccess_class', 'last_interaction_type_encoded']].astype('category')"
   ]
  },
  {
   "cell_type": "code",
   "execution_count": 20,
   "metadata": {},
   "outputs": [
    {
     "name": "stderr",
     "output_type": "stream",
     "text": [
      "/opt/cloudera/parcels/ANACONDA/lib/python3.6/site-packages/ipykernel_launcher.py:2: SettingWithCopyWarning: \n",
      "A value is trying to be set on a copy of a slice from a DataFrame.\n",
      "Try using .loc[row_indexer,col_indexer] = value instead\n",
      "\n",
      "See the caveats in the documentation: http://pandas.pydata.org/pandas-docs/stable/indexing.html#indexing-view-versus-copy\n",
      "  \n"
     ]
    }
   ],
   "source": [
    "pd_data1['rate_out_calls_6m'] = pd_data1['rate_out_calls_6m'].fillna(0)\n",
    "pd_data2['rate_out_calls_6m'] = pd_data2['rate_out_calls_6m'].fillna(0)"
   ]
  },
  {
   "cell_type": "code",
   "execution_count": 21,
   "metadata": {},
   "outputs": [
    {
     "name": "stdout",
     "output_type": "stream",
     "text": [
      "(9638228, 8)\n",
      "(14845457, 7)\n"
     ]
    }
   ],
   "source": [
    "print(pd_data1.shape)\n",
    "print(pd_data2.shape)"
   ]
  },
  {
   "cell_type": "code",
   "execution_count": 96,
   "metadata": {},
   "outputs": [
    {
     "name": "stdout",
     "output_type": "stream",
     "text": [
      "(9638228, 2)\n",
      "(14845457, 2)\n"
     ]
    }
   ],
   "source": [
    "data_scores1 = pd_data[pd_data['pif_phone_type_code'] == 'PRIMARY_MOBILE'].reset_index()[['phone_number','id_cuid']]\n",
    "data_scores2 = pd_data[['phone_number','id_cuid']]\n",
    "print(data_scores1.shape)\n",
    "print(data_scores2.shape)"
   ]
  },
  {
   "cell_type": "code",
   "execution_count": 117,
   "metadata": {},
   "outputs": [],
   "source": [
    "models_list = [model_cs_1, model_cs_2]\n",
    "pd_list = [pd_data1, pd_data2]\n",
    "data_list = [data_scores1, data_scores2]\n",
    "dict_scores = {}"
   ]
  },
  {
   "cell_type": "code",
   "execution_count": 122,
   "metadata": {},
   "outputs": [
    {
     "name": "stdout",
     "output_type": "stream",
     "text": [
      "0\n",
      "1\n"
     ]
    }
   ],
   "source": [
    "for i in range(2):\n",
    "    score_primary = models_list[i].predict(pd_list[i])\n",
    "    data_list[i]['SCORE'] = score_primary\n",
    "    data_list[i]['SK_DTIME_SCORE'] = datetime.now().strftime(\"%d.%m.%Y %H:%M:%S\")\n",
    "    data_list[i]['SK_DATE_SCORE'] = datetime.now().strftime(\"%Y%m%d\")\n",
    "    data_list[i]['DATE_'] = datetime.now().strftime(\"%d.%m.%Y\")\n",
    "    data_list[i] = data_list[i].rename(columns = lambda x:x.upper())\n",
    "    data_list[i]['PHONE_NUMBER'] = data_list[i]['PHONE_NUMBER'].astype(str)\n",
    "    data_list[i]['ID_CUID'] = data_list[i]['ID_CUID'].astype(int)\n",
    "    \n",
    "    dict_scores[i] = data_list[i].sort_values(by='SCORE', ascending=False).reset_index(drop=True)\n",
    "    num_bins = 10\n",
    "    bin_edges = np.linspace(0, len(dict_scores[i]), num_bins + 1).astype(int)\n",
    "    dict_scores[i]['SCORE_GROUP'] = 0\n",
    "    for j in range(num_bins):\n",
    "        dict_scores[i].loc[bin_edges[j]:bin_edges[j+1]-1, 'SCORE_GROUP'] = j + 1\n",
    "    dict_scores[i]['SK_DATE_SCORE'] = dict_scores[i]['SK_DATE_SCORE'].astype(int)\n",
    "    dict_scores[i] = dict_scores[i][['PHONE_NUMBER','ID_CUID','DATE_','SCORE','SK_DATE_SCORE','SCORE_GROUP','SK_DTIME_SCORE']]\n",
    "    print(i)"
   ]
  },
  {
   "cell_type": "code",
   "execution_count": 124,
   "metadata": {},
   "outputs": [
    {
     "data": {
      "text/plain": [
       "(14845457, 7)"
      ]
     },
     "execution_count": 124,
     "metadata": {},
     "output_type": "execute_result"
    }
   ],
   "source": [
    "dict_scores[1].shape"
   ]
  },
  {
   "cell_type": "code",
   "execution_count": null,
   "metadata": {},
   "outputs": [],
   "source": []
  },
  {
   "cell_type": "code",
   "execution_count": null,
   "metadata": {
    "jupyter": {
     "source_hidden": true
    }
   },
   "outputs": [],
   "source": [
    "score_primary = model_cs_1.predict(pd_data1)"
   ]
  },
  {
   "cell_type": "code",
   "execution_count": 35,
   "metadata": {
    "jupyter": {
     "source_hidden": true
    }
   },
   "outputs": [],
   "source": [
    "data_scores1['SCORE'] = score_primary\n",
    "data_scores1['SK_DTIME_SCORE'] = datetime.now().strftime(\"%d.%m.%Y %H:%M:%S\")\n",
    "data_scores1['SK_DATE_SCORE'] = datetime.now().strftime(\"%Y%m%d\")\n",
    "data_scores1['DATE_'] = datetime.now().strftime(\"%d.%m.%Y\")\n",
    "data_scores1 = data_scores1.rename(columns = lambda x:x.upper())\n",
    "data_scores1['PHONE_NUMBER'] = data_scores1['PHONE_NUMBER'].astype(str)\n",
    "data_scores1['ID_CUID'] = data_scores1['ID_CUID'].astype(int)"
   ]
  },
  {
   "cell_type": "code",
   "execution_count": 39,
   "metadata": {
    "jupyter": {
     "source_hidden": true
    }
   },
   "outputs": [],
   "source": [
    "data_test = data_scores1.sort_values(by='SCORE', ascending=False).reset_index(drop=True)\n",
    "num_bins = 10\n",
    "bin_edges = np.linspace(0, len(data_test), num_bins + 1).astype(int)\n",
    "data_test['SCORE_GROUP'] = 0\n",
    "for i in range(num_bins):\n",
    "    data_test.loc[bin_edges[i]:bin_edges[i+1]-1, 'SCORE_GROUP'] = i + 1"
   ]
  },
  {
   "cell_type": "code",
   "execution_count": 41,
   "metadata": {
    "jupyter": {
     "source_hidden": true
    }
   },
   "outputs": [],
   "source": [
    "data_test['SK_DATE_SCORE'] = data_test['SK_DATE_SCORE'].astype(int)"
   ]
  },
  {
   "cell_type": "code",
   "execution_count": 43,
   "metadata": {
    "jupyter": {
     "source_hidden": true
    }
   },
   "outputs": [],
   "source": [
    "data_test = data_test[['PHONE_NUMBER','ID_CUID','DATE_','SCORE','SK_DATE_SCORE','SCORE_GROUP','SK_DTIME_SCORE']]"
   ]
  },
  {
   "cell_type": "code",
   "execution_count": 61,
   "metadata": {
    "collapsed": true,
    "jupyter": {
     "outputs_hidden": true,
     "source_hidden": true
    }
   },
   "outputs": [
    {
     "data": {
      "text/html": [
       "<div>\n",
       "<style scoped>\n",
       "    .dataframe tbody tr th:only-of-type {\n",
       "        vertical-align: middle;\n",
       "    }\n",
       "\n",
       "    .dataframe tbody tr th {\n",
       "        vertical-align: top;\n",
       "    }\n",
       "\n",
       "    .dataframe thead th {\n",
       "        text-align: right;\n",
       "    }\n",
       "</style>\n",
       "<table border=\"1\" class=\"dataframe\">\n",
       "  <thead>\n",
       "    <tr style=\"text-align: right;\">\n",
       "      <th></th>\n",
       "      <th>PHONE_NUMBER</th>\n",
       "      <th>ID_CUID</th>\n",
       "      <th>DATE_</th>\n",
       "      <th>SCORE</th>\n",
       "      <th>SK_DATE_SCORE</th>\n",
       "      <th>SCORE_GROUP</th>\n",
       "      <th>SK_DTIME_SCORE</th>\n",
       "    </tr>\n",
       "  </thead>\n",
       "  <tbody>\n",
       "    <tr>\n",
       "      <th>0</th>\n",
       "      <td>7781710895</td>\n",
       "      <td>8172678</td>\n",
       "      <td>06.08.2024</td>\n",
       "      <td>0.775687</td>\n",
       "      <td>20240806</td>\n",
       "      <td>1</td>\n",
       "      <td>06.08.2024 13:59:12</td>\n",
       "    </tr>\n",
       "    <tr>\n",
       "      <th>1</th>\n",
       "      <td>7755721972</td>\n",
       "      <td>4119058</td>\n",
       "      <td>06.08.2024</td>\n",
       "      <td>0.771852</td>\n",
       "      <td>20240806</td>\n",
       "      <td>1</td>\n",
       "      <td>06.08.2024 13:59:12</td>\n",
       "    </tr>\n",
       "    <tr>\n",
       "      <th>2</th>\n",
       "      <td>7073180655</td>\n",
       "      <td>4953636</td>\n",
       "      <td>06.08.2024</td>\n",
       "      <td>0.769304</td>\n",
       "      <td>20240806</td>\n",
       "      <td>1</td>\n",
       "      <td>06.08.2024 13:59:12</td>\n",
       "    </tr>\n",
       "    <tr>\n",
       "      <th>3</th>\n",
       "      <td>7788472835</td>\n",
       "      <td>9458346</td>\n",
       "      <td>06.08.2024</td>\n",
       "      <td>0.765745</td>\n",
       "      <td>20240806</td>\n",
       "      <td>1</td>\n",
       "      <td>06.08.2024 13:59:12</td>\n",
       "    </tr>\n",
       "    <tr>\n",
       "      <th>4</th>\n",
       "      <td>7076243805</td>\n",
       "      <td>1547585</td>\n",
       "      <td>06.08.2024</td>\n",
       "      <td>0.765298</td>\n",
       "      <td>20240806</td>\n",
       "      <td>1</td>\n",
       "      <td>06.08.2024 13:59:12</td>\n",
       "    </tr>\n",
       "  </tbody>\n",
       "</table>\n",
       "</div>"
      ],
      "text/plain": [
       "  PHONE_NUMBER  ID_CUID       DATE_     SCORE  SK_DATE_SCORE  SCORE_GROUP  \\\n",
       "0   7781710895  8172678  06.08.2024  0.775687       20240806            1   \n",
       "1   7755721972  4119058  06.08.2024  0.771852       20240806            1   \n",
       "2   7073180655  4953636  06.08.2024  0.769304       20240806            1   \n",
       "3   7788472835  9458346  06.08.2024  0.765745       20240806            1   \n",
       "4   7076243805  1547585  06.08.2024  0.765298       20240806            1   \n",
       "\n",
       "        SK_DTIME_SCORE  \n",
       "0  06.08.2024 13:59:12  \n",
       "1  06.08.2024 13:59:12  \n",
       "2  06.08.2024 13:59:12  \n",
       "3  06.08.2024 13:59:12  \n",
       "4  06.08.2024 13:59:12  "
      ]
     },
     "execution_count": 61,
     "metadata": {},
     "output_type": "execute_result"
    }
   ],
   "source": [
    "data_test.head()"
   ]
  },
  {
   "cell_type": "code",
   "execution_count": 62,
   "metadata": {
    "collapsed": true,
    "jupyter": {
     "outputs_hidden": true,
     "source_hidden": true
    }
   },
   "outputs": [
    {
     "data": {
      "text/plain": [
       "(9638228, 7)"
      ]
     },
     "execution_count": 62,
     "metadata": {},
     "output_type": "execute_result"
    }
   ],
   "source": [
    "data_test.shape"
   ]
  },
  {
   "cell_type": "code",
   "execution_count": 58,
   "metadata": {},
   "outputs": [],
   "source": [
    "\n",
    "def dwh_connection_AP_RISK(login, password):\n",
    "    \"\"\"\n",
    "    Inner-function for functions dwh_update and dwh_insert\n",
    "    f'{login}/{password}@(DESCRIPTION=(ADDRESS=(PROTOCOL=TCP)(HOST=DBHDWKZ.KZ.PROD)(PORT=1521))(CONNECT_DATA=(UR=A)(SERVER=DEDICATED)(SERVICE_NAME=HDWKZ.KZ.PROD)))',\n",
    "    \"\"\"\n",
    "    connection = cx_Oracle.connect(\n",
    "        f'{login}/{password}@DBHDWKZ.KZ.PROD:1521/HDWKZ.KZ.PROD',\n",
    "        encoding='UTF-8',\n",
    "        nencoding='UTF-8'\n",
    "    )\n",
    "    return connection\n",
    "\n",
    "\n",
    "def dwh_update(login, password):\n",
    "    \"\"\"\n",
    "    Function to truncate a table via procedure\n",
    "    \"\"\"\n",
    "    conn_ap_risk = dwh_connection_AP_RISK(login, password)\n",
    "    cursor = cx_Oracle.Cursor(conn_ap_risk)\n",
    "\n",
    "    sql_truncate = '''begin\n",
    "    OWNER_EXT.TRUNCATE_TABLE_CONNECTION_SCORE_ACTUAL;\n",
    "    end;'''\n",
    "    cursor.execute(sql_truncate)\n",
    "\n",
    "    conn_ap_risk.commit()\n",
    "\n",
    "    cursor.close()\n",
    "    conn_ap_risk.close()\n",
    "\n",
    "def dwh_insert(data, login, password):\n",
    "    \"\"\"\n",
    "    Function to insert data into table\n",
    "    \"\"\"\n",
    "    conn_ap_risk = dwh_connection_AP_RISK(login, password)\n",
    "    cursor = cx_Oracle.Cursor(conn_ap_risk)\n",
    "    df = data.astype(str)\n",
    "    rowss = df[['PHONE_NUMBER', 'ID_CUID', 'DATE_', 'SCORE', 'SK_DATE_SCORE', 'SCORE_GROUP', 'SK_DTIME_SCORE']].to_records(index=False).tolist()\n",
    "\n",
    "    # cursor.prepare('''insert into ap_risk.t_zz_connection_score_history (PHONE_NUMBER, ID_CUID, DATE_, SCORE, SK_DATE_SCORE, SCORE_GROUP, SK_DTIME_SCORE) values (:1, :2, to_date(:3, 'dd.mm.yyyy'), :4, :5, :6, to_date(:7, 'dd.mm.yyyy HH24:MI:SS') )''')\n",
    "    # cursor.executemany(None, rowss)\n",
    "\n",
    "    cursor.prepare('''insert into OWNER_EXT.T_ZZ_CONNECTION_SCORE_P_ACTUAL (PHONE_NUMBER, ID_CUID, DATE_, SCORE, SK_DATE_SCORE, SCORE_GROUP, SK_DTIME_SCORE) values (:1, :2, to_date(:3, 'dd.mm.yyyy'), :4, :5, :6, to_date(:7, 'dd.mm.yyyy HH24:MI:SS') )''')\n",
    "    cursor.executemany(None, rowss)\n",
    "\n",
    "    conn_ap_risk.commit()\n",
    "    cursor.close()\n",
    "    conn_ap_risk.close()\n"
   ]
  },
  {
   "cell_type": "code",
   "execution_count": null,
   "metadata": {},
   "outputs": [],
   "source": [
    "#dwh_update(login=dm_bdp_etl_user, password=dm_bdp_etl_pass)"
   ]
  },
  {
   "cell_type": "code",
   "execution_count": 59,
   "metadata": {},
   "outputs": [],
   "source": [
    "import getpass\n",
    "import cx_Oracle"
   ]
  },
  {
   "cell_type": "code",
   "execution_count": 60,
   "metadata": {},
   "outputs": [
    {
     "name": "stdin",
     "output_type": "stream",
     "text": [
      "Введите пароль:  ·················\n"
     ]
    }
   ],
   "source": [
    "dm_bdp_etl_user = 'HCKZ_ZHALGASZHIENBEKOV[AP_CRM_ABT]'\n",
    "dm_bdp_etl_pass =  getpass.getpass('Введите пароль: ')"
   ]
  },
  {
   "cell_type": "code",
   "execution_count": 133,
   "metadata": {},
   "outputs": [
    {
     "data": {
      "text/plain": [
       "5"
      ]
     },
     "execution_count": 133,
     "metadata": {},
     "output_type": "execute_result"
    }
   ],
   "source": [
    "int(dict_scores[0].shape[0]/2000000) + 1"
   ]
  },
  {
   "cell_type": "code",
   "execution_count": 62,
   "metadata": {},
   "outputs": [
    {
     "name": "stdout",
     "output_type": "stream",
     "text": [
      "Inserted data from rows 0 to 2100000\n",
      "Loading...\n",
      "Inserted data from rows 2100000 to 4200000\n",
      "Loading...\n",
      "Inserted data from rows 4200000 to 6300000\n",
      "Loading...\n",
      "Inserted data from rows 6300000 to 8400000\n",
      "Loading...\n",
      "Inserted data from rows 8400000 to 10500000\n",
      "Loading...\n",
      "Inserted data from rows 10500000 to 12600000\n",
      "Loading...\n",
      "Inserted data from rows 12600000 to 14700000\n",
      "Loading...\n",
      "Inserted data from rows 14700000 to 16800000\n",
      "Loading...\n",
      "Inserted data from rows 16800000 to 18900000\n",
      "Loading...\n",
      "Inserted data from rows 18900000 to 21000000\n",
      "Loading...\n",
      "Inserted data from rows 21000000 to 23100000\n",
      "Loading...\n",
      "Success, table is ready to read!\n"
     ]
    }
   ],
   "source": [
    "#dwh_update(login=dm_bdp_etl_user, password=dm_bdp_etl_pass)\n",
    "start_time = time.time()\n",
    "\n",
    "for i in range(11):\n",
    "    data_part = data_test.iloc[i*2000000:(i+1)*2000000]\n",
    "    dwh_insert(data=data_part, login=dm_bdp_etl_user, password=dm_bdp_etl_pass)\n",
    "    print(f'Inserted data from rows {i*2100000} to {(i+1)*2100000}')\n",
    "    print('Loading...')\n",
    "print('Success, table is ready to read!')"
   ]
  },
  {
   "cell_type": "code",
   "execution_count": null,
   "metadata": {},
   "outputs": [],
   "source": []
  }
 ],
 "metadata": {
  "kernelspec": {
   "display_name": "Python 3",
   "language": "python",
   "name": "python3"
  },
  "language_info": {
   "codemirror_mode": {
    "name": "ipython",
    "version": 3
   },
   "file_extension": ".py",
   "mimetype": "text/x-python",
   "name": "python",
   "nbconvert_exporter": "python",
   "pygments_lexer": "ipython3",
   "version": "3.6.10"
  }
 },
 "nbformat": 4,
 "nbformat_minor": 4
}
